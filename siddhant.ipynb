{
 "cells": [
  {
   "cell_type": "markdown",
   "id": "177c8481-a231-4a79-b22b-d3b0ccaa2833",
   "metadata": {},
   "source": [
    "\"My Jupyter Notebook on IBM Watson Studio\""
   ]
  },
  {
   "cell_type": "markdown",
   "id": "730023c7-011c-416e-bacd-a5a2a98993ad",
   "metadata": {},
   "source": [
    "**Siddhant Dhanaji Kadam** want to Became Data Scientist"
   ]
  },
  {
   "cell_type": "markdown",
   "id": "2e48cb5d-4192-4cfd-ab3d-1210fb1d3f9c",
   "metadata": {},
   "source": [
    "*I am interested in data science because I'm very curious about the data And I Love to data menupulat. Also the data Visualization is very Wonderful To do. And the predictions are awesome So that's why I'm very intrested to do it.*"
   ]
  },
  {
   "cell_type": "markdown",
   "id": "e790bf13-2d90-4659-b281-be000cdee5f2",
   "metadata": {},
   "source": [
    "It will add the two numbers"
   ]
  },
  {
   "cell_type": "code",
   "execution_count": 1,
   "id": "374b6728-7684-4d54-8b93-dfc15e3dfe98",
   "metadata": {},
   "outputs": [
    {
     "data": {
      "text/plain": [
       "10"
      ]
     },
     "execution_count": 1,
     "metadata": {},
     "output_type": "execute_result"
    }
   ],
   "source": [
    "5+5"
   ]
  },
  {
   "cell_type": "markdown",
   "id": "c28126cd-70f3-461b-aeda-3daeb7d85cde",
   "metadata": {},
   "source": [
    "1. number list\n",
    "2. 2nd number list.\n",
    "-  one\n",
    "-  two\n",
    "> This is a Horizontal rule\n"
   ]
  }
 ],
 "metadata": {
  "kernelspec": {
   "display_name": "Python",
   "language": "python",
   "name": "conda-env-python-py"
  },
  "language_info": {
   "codemirror_mode": {
    "name": "ipython",
    "version": 3
   },
   "file_extension": ".py",
   "mimetype": "text/x-python",
   "name": "python",
   "nbconvert_exporter": "python",
   "pygments_lexer": "ipython3",
   "version": "3.7.12"
  }
 },
 "nbformat": 4,
 "nbformat_minor": 5
}
